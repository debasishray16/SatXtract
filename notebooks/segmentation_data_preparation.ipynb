{
 "cells": [
  {
   "cell_type": "markdown",
   "metadata": {},
   "source": [
    "# Semantic Segmentation of satellite imagery using U-Net\n",
    "## Step 1: Data preparation\n",
    "\n",
    "Adapted from the [code by Dr. Sreenivas Bhattiprolu](https://github.com/bnsreenu/python_for_microscopists/tree/master/230_landcover_dataset_segmentation) (also see the [tutorial](https://www.youtube.com/watch?v=0W6MKZqSke8))\n",
    "\n",
    "Dataset: https://www.kaggle.com/datasets/adrianboguszewski/landcoverai?resource=download\n",
    "\n",
    "Tasks:\n",
    "\n",
    "1. Read large images and corresponding masks, divide them into smaller patches and write the patches as image files to the local drive.\n",
    "\n",
    "2. Save only images and masks where masks have a relevant amount of labels needed. In this case we are especially looking for building footprints, so images with 100% woodland don't help much.\n",
    "\n",
    "3. Split the sorted dataset from above into train and validation datasets.\n",
    "\n",
    "4. Move files to the correctly named directories for later use with ImageDataGenerator from keras.\n",
    "\n",
    "To start, download the dataset and place the images and masks in the directories defined below as `dir_img` and `dir_masks`."
   ]
  },
  {
   "cell_type": "code",
   "execution_count": null,
   "metadata": {},
   "outputs": [],
   "source": [
    "# Necessary because of a bug https://github.com/qubvel/segmentation_models/issues/374\n",
    "%env SM_FRAMEWORK=tf.keras"
   ]
  },
  {
   "cell_type": "code",
   "execution_count": null,
   "metadata": {},
   "outputs": [],
   "source": [
    "import os\n",
    "import shutil\n",
    "import sys\n",
    "from pathlib import Path\n",
    "\n",
    "import cv2\n",
    "import matplotlib.pyplot as plt\n",
    "import numpy as np\n",
    "import splitfolders"
   ]
  },
  {
   "cell_type": "code",
   "execution_count": null,
   "metadata": {},
   "outputs": [],
   "source": [
    "# Add the parent directory to the path to make imports work\n",
    "module_path = os.path.abspath(os.path.join(\"..\"))\n",
    "if module_path not in sys.path:\n",
    "    sys.path.append(module_path)\n",
    "\n",
    "# Import helper functions from files in src folder\n",
    "from src import plot, prepare_data"
   ]
  },
  {
   "cell_type": "markdown",
   "metadata": {},
   "source": [
    "### Define Directories\n"
   ]
  },
  {
   "cell_type": "code",
   "execution_count": null,
   "metadata": {},
   "outputs": [],
   "source": [
    "# Landcover AI base path\n",
    "dir_data_landcover = Path(\"../data/landcover_ai/\")\n",
    "\n",
    "# We suppose that the Landcover AI images are stored in the following directories\n",
    "dir_img = Path(dir_data_landcover, \"images\")\n",
    "dir_mask = Path(dir_data_landcover, \"masks\")\n",
    "\n",
    "# We will store the patches in the following directories\n",
    "dir_patch = Path(dir_data_landcover, \"patches\")\n",
    "dir_patch_img = Path(dir_patch, \"images\")\n",
    "dir_patch_mask = Path(dir_patch, \"masks\")\n",
    "dir_patch_useful_img = Path(dir_patch, \"useful/images\")\n",
    "dir_patch_useful_mask = Path(dir_patch, \"useful/masks\")\n",
    "\n",
    "# Define file paths for the inventory\n",
    "inventory_path = Path(dir_data_landcover, \"inventory.csv\")\n",
    "inventory_short_path = Path(dir_data_landcover, \"inventory_short.csv\")\n",
    "\n",
    "# Create directories if they don't exist\n",
    "for dir in [dir_data_landcover, dir_img, dir_mask]:\n",
    "    Path(dir).mkdir(parents=True, exist_ok=True)"
   ]
  },
  {
   "cell_type": "code",
   "execution_count": null,
   "metadata": {},
   "outputs": [],
   "source": [
    "# Count the number of images and masks\n",
    "n_images = len(list(dir_img.glob(\"*.tif\")))\n",
    "n_masks = len(list(dir_mask.glob(\"*.tif\")))\n",
    "\n",
    "if n_images == 0:\n",
    "    print(\"No images found\")\n",
    "elif n_images != n_masks:\n",
    "    print(\"Number of images and masks do not match\")\n",
    "else:\n",
    "    print(f\"Number of images: {n_images}\")\n",
    "    print(f\"Number of masks: {n_masks}\")"
   ]
  },
  {
   "cell_type": "code",
   "execution_count": null,
   "metadata": {},
   "outputs": [],
   "source": [
    "classes = {0: \"Not classified\", 1: \"Building\", 2: \"Woodland\", 3: \"Water\", 4: \"Roads\"}"
   ]
  },
  {
   "cell_type": "markdown",
   "metadata": {},
   "source": [
    "### Visualize the three bands of an image."
   ]
  },
  {
   "cell_type": "code",
   "execution_count": null,
   "metadata": {},
   "outputs": [],
   "source": [
    "# Get paths of all images\n",
    "img_files = [file for file in dir_img.iterdir()]\n",
    "\n",
    "# Image with buildings\n",
    "# img_path_buildings = Path(dir_img, \"N-33-130-A-d-4-4.tif\")\n",
    "\n",
    "# Image with water\n",
    "# img_path_water = Path(dir_img, \"M-33-20-D-d-3-3.tif\")\n",
    "\n",
    "# Image with roads and buildings\n",
    "img_path = Path(dir_img, \"M-34-6-A-d-2-2.tif\")\n",
    "\n",
    "# Get random image from all images\n",
    "# img_path = np.random.choice(img_files)\n",
    "\n",
    "\n",
    "plot.plot_image_channels(img_path)\n",
    "\n"
   ]
  },
  {
   "cell_type": "markdown",
   "metadata": {},
   "source": [
    "### Visualize the mask of same image above."
   ]
  },
  {
   "cell_type": "code",
   "execution_count": null,
   "metadata": {},
   "outputs": [],
   "source": [
    "mask_path = Path(str(img_path).replace(\"/images/\", \"/masks/\"))\n",
    "\n",
    "\n",
    "# Load images\n",
    "image = cv2.imread(str(img_path))\n",
    "image = cv2.cvtColor(image, cv2.COLOR_BGR2RGB)  # Convert to RGB\n",
    "\n",
    "mask = cv2.imread(str(mask_path), cv2.IMREAD_GRAYSCALE)  # Load mask in grayscale\n",
    "\n",
    "# Plot both images side by side\n",
    "fig, axes = plt.subplots(1, 2, figsize=(10, 5))\n",
    "\n",
    "# RGB Image\n",
    "axes[0].imshow(image)\n",
    "axes[0].set_title(\"RGB Image\")\n",
    "axes[0].axis(\"off\")\n",
    "\n",
    "# Mask Image (Grayscale)\n",
    "axes[1].imshow(mask, cmap=\"gray\")  # Ensure grayscale display\n",
    "axes[1].set_title(\"Mask\")\n",
    "axes[1].axis(\"off\")\n",
    "\n",
    "plt.show()\n",
    "\n",
    "# to check mask value in array format\n",
    "mask = cv2.imread(str(mask_path), 0)\n",
    "unique_values = np.unique(mask)\n",
    "print(\"Unique values in mask:\", unique_values)\n",
    "\n",
    "\n",
    "\n",
    "# ------------------------------------------------------------ Extra\n",
    "mask = cv2.imread(str(mask_path), cv2.IMREAD_GRAYSCALE)\n",
    "\n",
    "# Display properly\n",
    "plt.imshow(mask, cmap='gray')  # Use grayscale colormap\n",
    "plt.colorbar()  # Add color scale\n",
    "plt.title(\"Mask Image\")\n",
    "plt.show()"
   ]
  },
  {
   "cell_type": "markdown",
   "metadata": {},
   "source": [
    "### Labelling according to features."
   ]
  },
  {
   "cell_type": "code",
   "execution_count": null,
   "metadata": {},
   "outputs": [],
   "source": [
    "mask_path = Path(img_path.as_posix().replace(\"/images/\", \"/masks/\"))\n",
    "mask = cv2.imread(mask_path.as_posix())\n",
    "\n",
    "# Can be checked for each channel. All channels are identical\n",
    "labels, count = np.unique(mask[:, :, 0], return_counts=True)\n",
    "print(\n",
    "    f\"Labels are:\\n\\n\"\n",
    "    f\"{labels[0]}. Background: {count[0]:,} ({count[0]/np.sum(count):.2%})\\n\"\n",
    "    f\"{labels[1]}. Buildings: {count[1]:,} ({count[1]/np.sum(count):.2%})\\n\"\n",
    "    f\"{labels[2]}. Woodland: {count[2]:,} ({count[2]/np.sum(count):.2%})\\n\"\n",
    "    f\"{labels[3]}. Water: {count[3]:,} ({count[3]/np.sum(count):.2%})\\n\"\n",
    "    f\"{labels[4]}. Roads: {count[4]:,} ({count[4]/np.sum(count):.2%})\"\n",
    ")"
   ]
  },
  {
   "cell_type": "markdown",
   "metadata": {},
   "source": [
    "### Crop large image into patch of 256 X 256"
   ]
  },
  {
   "cell_type": "code",
   "execution_count": null,
   "metadata": {},
   "outputs": [],
   "source": [
    "# Create directories if they don't exist\n",
    "for dir in [\n",
    "    dir_patch,\n",
    "    dir_patch_img,\n",
    "    dir_patch_mask,\n",
    "    dir_patch_useful_img,\n",
    "    dir_patch_useful_mask,\n",
    "]:\n",
    "    Path(dir).mkdir(parents=True, exist_ok=True)"
   ]
  },
  {
   "cell_type": "code",
   "execution_count": null,
   "metadata": {},
   "outputs": [],
   "source": [
    "# Run the function to create patches for images\n",
    "prepare_data.create_patches(dir_img, dir_patch_img)"
   ]
  },
  {
   "cell_type": "code",
   "execution_count": null,
   "metadata": {},
   "outputs": [],
   "source": [
    "# Run the function to create patches for masks\n",
    "prepare_data.create_patches(dir_mask, dir_patch_mask)"
   ]
  },
  {
   "cell_type": "markdown",
   "metadata": {},
   "source": [
    "## Create path inventory"
   ]
  },
  {
   "cell_type": "code",
   "execution_count": null,
   "metadata": {},
   "outputs": [],
   "source": [
    "inventory = prepare_data.create_patch_inventory(dir_patch_mask, inventory_path, classes)"
   ]
  },
  {
   "cell_type": "code",
   "execution_count": null,
   "metadata": {},
   "outputs": [],
   "source": [
    "inventory"
   ]
  },
  {
   "cell_type": "markdown",
   "metadata": {},
   "source": [
    "## Select patches containing relevant information\n",
    "\n",
    "### Copy patches and masks with real information to a new folder."
   ]
  },
  {
   "cell_type": "code",
   "execution_count": null,
   "metadata": {},
   "outputs": [],
   "source": [
    "prepare_data.select_useful_patches(\n",
    "    dir_patch_img,\n",
    "    dir_patch_mask,\n",
    "    dir_patch_useful_img,\n",
    "    dir_patch_useful_mask,\n",
    "    inventory_short_path,\n",
    "    classes,\n",
    ")"
   ]
  },
  {
   "cell_type": "code",
   "execution_count": null,
   "metadata": {},
   "outputs": [],
   "source": [
    "inventory_useful = prepare_data.create_patch_inventory(\n",
    "    dir_patch_useful_mask,\n",
    "    Path(dir_data_landcover, \"inventory_useful.csv\"),\n",
    "    classes,\n",
    "    force=True,\n",
    ")"
   ]
  },
  {
   "cell_type": "code",
   "execution_count": null,
   "metadata": {},
   "outputs": [],
   "source": [
    "# Plot a histograms in subplots for 1_pct, 2_pct, 3_pct, 4_pct in inventory_useful\n",
    "fig, axs = plt.subplots(1, 4, figsize=(12, 3))\n",
    "axs[0].hist(inventory_useful[\"1_pct\"], bins=100)\n",
    "axs[0].set_title(classes[1])\n",
    "axs[1].hist(inventory_useful[\"2_pct\"], bins=100)\n",
    "axs[1].set_title(classes[2])\n",
    "axs[2].hist(inventory_useful[\"3_pct\"], bins=100)\n",
    "axs[2].set_title(classes[3])\n",
    "axs[3].hist(inventory_useful[\"4_pct\"], bins=100)\n",
    "axs[3].set_title(classes[4])"
   ]
  },
  {
   "cell_type": "code",
   "execution_count": null,
   "metadata": {},
   "outputs": [],
   "source": [
    "# # Remove other classes from selected patches\n",
    "# for file in dir_patch_useful_mask.iterdir():\n",
    "#     mask = cv2.imread(file.as_posix())\n",
    "#     mask[mask == 2] = 0\n",
    "#     mask[mask == 3] = 0\n",
    "#     mask[mask == 4] = 0\n",
    "#     cv2.imwrite(file.as_posix(), mask)"
   ]
  },
  {
   "cell_type": "markdown",
   "metadata": {},
   "source": [
    "### Plot random patch alongside it's mask image."
   ]
  },
  {
   "cell_type": "code",
   "execution_count": null,
   "metadata": {},
   "outputs": [],
   "source": [
    "# Get paths of all patches\n",
    "patch_files = [file for file in dir_patch_useful_img.iterdir()]\n",
    "\n",
    "# Randomly select one of them\n",
    "patch_path = np.random.choice(patch_files)\n",
    "\n",
    "mask_path = Path(str(patch_path).replace(\"/images/\", \"/masks/\"))\n",
    "\n",
    "# Load images from path_path randomly\n",
    "image = cv2.imread(str(patch_path))\n",
    "image = cv2.cvtColor(image, cv2.COLOR_BGR2RGB)  # Convert to RGB\n",
    "\n",
    "mask = cv2.imread(str(mask_path), cv2.IMREAD_GRAYSCALE)  # Load mask in grayscale\n",
    "\n",
    "# Plot both images side by side\n",
    "fig, axes = plt.subplots(1, 2, figsize=(10, 5))\n",
    "\n",
    "# RGB Image\n",
    "axes[0].imshow(image)\n",
    "axes[0].set_title(\"RGB Image\")\n",
    "axes[0].axis(\"off\")\n",
    "\n",
    "# Mask Image (Grayscale)\n",
    "axes[1].imshow(mask, cmap=\"gray\")  # Ensure grayscale display\n",
    "axes[1].set_title(\"Mask\")\n",
    "axes[1].axis(\"off\")\n",
    "\n",
    "plt.show()\n",
    "\n",
    "\n",
    "# to check mask value in array format\n",
    "mask = cv2.imread(str(mask_path), 0)\n",
    "unique_values = np.unique(mask)\n",
    "print(\"Unique values of this mask:\", unique_values)\n"
   ]
  },
  {
   "cell_type": "markdown",
   "metadata": {},
   "source": [
    "### Split the data into training, validation and testing"
   ]
  },
  {
   "cell_type": "code",
   "execution_count": null,
   "metadata": {},
   "outputs": [],
   "source": [
    "input_folder = Path(dir_patch, \"useful\")\n",
    "output_folder = Path(dir_data_landcover, \"tmp\")\n",
    "\n",
    "# Delete output_folder if it exists\n",
    "if output_folder.is_dir():\n",
    "    shutil.rmtree(str(output_folder))\n",
    "\n",
    "for dir in [input_folder, output_folder]:\n",
    "    Path(dir).mkdir(parents=True, exist_ok=True)\n",
    "\n",
    "# Split with a ratio\n",
    "# To only split into training and validation set, set a tuple to ratio, i.e, `(.8, .2)`.\n",
    "splitfolders.ratio(\n",
    "    input_folder, output=output_folder, seed=42, ratio=(0.75, 0.25), group_prefix=None\n",
    ")"
   ]
  },
  {
   "cell_type": "markdown",
   "metadata": {},
   "source": [
    "#### Move files to final destination."
   ]
  },
  {
   "cell_type": "code",
   "execution_count": null,
   "metadata": {},
   "outputs": [],
   "source": [
    "move_files = {\n",
    "    \"train/images/\": \"train_images/train/\",\n",
    "    \"train/masks/\": \"train_masks/train/\",\n",
    "    \"val/images/\": \"val_images/val/\",\n",
    "    \"val/masks/\": \"val_masks/val/\",\n",
    "}\n",
    "\n",
    "for source, dest in move_files.items():\n",
    "    source = Path(output_folder, source)\n",
    "    dest = Path(dir_data_landcover, dest)\n",
    "\n",
    "    # Delete destination if it exists\n",
    "    if dest.is_dir():\n",
    "        shutil.rmtree(str(dest))\n",
    "\n",
    "    # Make sure destination exists\n",
    "    Path(dest).mkdir(parents=True, exist_ok=True)\n",
    "\n",
    "    counter = 0\n",
    "\n",
    "    for file in source.iterdir():\n",
    "        if file.is_file():\n",
    "            file.rename(Path(dest, file.name))\n",
    "            counter += 1\n",
    "\n",
    "    print(f\"Moved {counter} files from {source} to {dest}.\")"
   ]
  },
  {
   "cell_type": "markdown",
   "metadata": {},
   "source": [
    "#### Remove temporary directory."
   ]
  },
  {
   "cell_type": "code",
   "execution_count": null,
   "metadata": {},
   "outputs": [],
   "source": [
    "files_left = 0\n",
    "\n",
    "# Count number of files left\n",
    "for file in output_folder.rglob(\"*\"):\n",
    "    if file.is_file():\n",
    "        files_left += 1\n",
    "\n",
    "if files_left == 0:\n",
    "    shutil.rmtree(output_folder)\n",
    "    print(f\"Removed empty directory {output_folder}.\")\n",
    "else:\n",
    "    print(f\"{output_folder} not empty, did not remove.\")"
   ]
  }
 ],
 "metadata": {
  "kernelspec": {
   "display_name": "Python 3",
   "language": "python",
   "name": "python3"
  },
  "language_info": {
   "name": "python",
   "version": "3.12.8"
  }
 },
 "nbformat": 4,
 "nbformat_minor": 2
}
